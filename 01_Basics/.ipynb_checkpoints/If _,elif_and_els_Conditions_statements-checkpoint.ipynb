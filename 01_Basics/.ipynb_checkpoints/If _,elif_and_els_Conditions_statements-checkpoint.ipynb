{
 "cells": [
  {
   "cell_type": "code",
   "execution_count": 1,
   "metadata": {},
   "outputs": [],
   "source": [
    "### If ,elif and else Conditions statements"
   ]
  },
  {
   "cell_type": "code",
   "execution_count": 2,
   "metadata": {},
   "outputs": [
    {
     "name": "stdout",
     "output_type": "stream",
     "text": [
      "enter the a number200\n",
      "enter the b number100\n",
      "a is greater than b\n"
     ]
    }
   ],
   "source": [
    "#An \"if statement\" is written by using the if keyword\n",
    "#If Conditions\n",
    "a=int(input('enter the a number'))\n",
    "b=int(input('enter the b number'))\n",
    "if a>b:\n",
    "    print('a is greater than b')"
   ]
  },
  {
   "cell_type": "code",
   "execution_count": 3,
   "metadata": {},
   "outputs": [
    {
     "name": "stdout",
     "output_type": "stream",
     "text": [
      "a and b are equal\n"
     ]
    }
   ],
   "source": [
    "#Elif Condition\n",
    "#The elif keyword is pythons way of saying \"if the previous conditions were not true, then try this condition\n",
    "a = 33\n",
    "b = 33\n",
    "if b > a:\n",
    "  print(\"b is greater than a\")\n",
    "elif a == b:\n",
    "  print(\"a and b are equal\")"
   ]
  },
  {
   "cell_type": "code",
   "execution_count": 13,
   "metadata": {},
   "outputs": [
    {
     "name": "stdout",
     "output_type": "stream",
     "text": [
      "enter the a number400\n",
      "enter the b number200\n",
      "a is greater than b\n"
     ]
    }
   ],
   "source": [
    "#else condition\n",
    "#The else keyword catches anything which isn't caught by the preceding conditions\n",
    "a=int(input('enter the a number'))\n",
    "b=int(input('enter the b number'))\n",
    "if a > b:\n",
    "  print(\"a is greater than b\")\n",
    "elif b > a:\n",
    "  print(\"b is greater than a\")\n",
    "else:\n",
    "   print(\"a and b  are equal\")\n",
    "    \n"
   ]
  },
  {
   "cell_type": "code",
   "execution_count": null,
   "metadata": {},
   "outputs": [],
   "source": []
  }
 ],
 "metadata": {
  "kernelspec": {
   "display_name": "Python 3",
   "language": "python",
   "name": "python3"
  },
  "language_info": {
   "codemirror_mode": {
    "name": "ipython",
    "version": 3
   },
   "file_extension": ".py",
   "mimetype": "text/x-python",
   "name": "python",
   "nbconvert_exporter": "python",
   "pygments_lexer": "ipython3",
   "version": "3.8.3"
  }
 },
 "nbformat": 4,
 "nbformat_minor": 4
}
