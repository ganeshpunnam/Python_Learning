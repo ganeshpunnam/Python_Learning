{
 "cells": [
  {
   "cell_type": "markdown",
   "metadata": {},
   "source": [
    "##Python Operators"
   ]
  },
  {
   "cell_type": "code",
   "execution_count": 2,
   "metadata": {},
   "outputs": [
    {
     "name": "stdout",
     "output_type": "stream",
     "text": [
      "6\n",
      "-2\n",
      "8\n",
      "2\n",
      "0.5\n",
      "16\n",
      "0\n"
     ]
    }
   ],
   "source": [
    "#Arithmatic operatures\n",
    "#Arithmatic operators are used with numberic values to perform common mathematical operations\n",
    "#(+,-,*,/,%,**,//)\n",
    "a=2\n",
    "b=4\n",
    "print(a+b)\n",
    "print(a-b)\n",
    "print(a*b)\n",
    "print(a%b)\n",
    "print(a/b)\n",
    "print(a**b)\n",
    "print(a//b)\n",
    "\n"
   ]
  },
  {
   "cell_type": "code",
   "execution_count": 7,
   "metadata": {},
   "outputs": [
    {
     "name": "stdout",
     "output_type": "stream",
     "text": [
      "2\n",
      "7\n",
      "2\n",
      "10\n",
      "0\n",
      "0.0\n"
     ]
    }
   ],
   "source": [
    "#assignment operations\n",
    "#assignment operations are used to assign the values to variables\n",
    "#(=,+=,-=,*=,%=,/=,etc)\n",
    "a=2\n",
    "print(a)\n",
    "a+=5\n",
    "print(a)\n",
    "a-=5\n",
    "print(a)\n",
    "a*=5\n",
    "print(a)\n",
    "a%=5\n",
    "print(a)\n",
    "a/=5\n",
    "print(a)\n"
   ]
  },
  {
   "cell_type": "code",
   "execution_count": 5,
   "metadata": {},
   "outputs": [
    {
     "name": "stdout",
     "output_type": "stream",
     "text": [
      "the line 1 a is not equal b\n",
      "the line 2 a is not equal b\n",
      "the line 3 b is not less than a\n",
      "the line 4 b is greater than are equal to a\n",
      "the line 5 b is greater than a\n",
      "the line 6 a is less than are equal to b\n"
     ]
    }
   ],
   "source": [
    "#python comparison operatures\n",
    "#comparison operatures are used to compare the two values\n",
    "#(==,!=,>,>=,<,<=)\n",
    "a=2\n",
    "b=4\n",
    "if a==b:\n",
    "    print(\"the line 1 a is equal to b\")\n",
    "else:\n",
    "    print(\"the line 1 a is not equal b\")\n",
    "if a!=b:\n",
    "    print(\"the line 2 a is not equal b\")\n",
    "else:\n",
    "    print(\"the line 2 a is equal to b\")\n",
    "if a>b:\n",
    "    print(\"the line 3 a is less than b\")\n",
    "else:\n",
    "    print(\"the line 3 b is not less than a\")\n",
    "    \n",
    "if a>=b:\n",
    "    print(\"the line 4 a is greater than are equal to b\")\n",
    "else:\n",
    "    print(\"the line 4 b is greater than are equal to a\")\n",
    "if a<b:\n",
    "    print(\"the line 5 b is greater than a\")\n",
    "else:\n",
    "    print(\"the line 5 a is greater than b\")\n",
    "if a<=b:\n",
    "     print(\"the line 6 a is less than are equal to b\")\n",
    "else:\n",
    "     print(\"the line 6 a is not less than are equal to b\")\n",
    "    \n",
    "    \n",
    "    \n",
    "    \n"
   ]
  },
  {
   "cell_type": "code",
   "execution_count": 17,
   "metadata": {},
   "outputs": [
    {
     "name": "stdout",
     "output_type": "stream",
     "text": [
      "True\n",
      "True\n",
      "False\n"
     ]
    }
   ],
   "source": [
    "#logical operatores\n",
    "#logical operatures are used to combine conditional statments\n",
    "#(and, or , not)\n",
    "a=5\n",
    "print(a>3 and a<10)\n",
    "print(a > 3 or a < 10)\n",
    "print(not (a > 3 or a < 10))"
   ]
  },
  {
   "cell_type": "code",
   "execution_count": 19,
   "metadata": {},
   "outputs": [
    {
     "name": "stdout",
     "output_type": "stream",
     "text": [
      "False\n",
      "True\n",
      "True\n",
      "False\n"
     ]
    }
   ],
   "source": [
    "#Identical Operatures\n",
    "#Identity operators are used to compare the objects, not if they are equal, but if they are actually the same object, with the same memory location\n",
    "#(is ,isnot)\n",
    "x = [\"apple\", \"banana\"]\n",
    "y = [\"apple\", \"banana\"]\n",
    "z = x\n",
    "print(x is y)\n",
    "print(x is z)\n",
    "print(x is not y)\n",
    "print(x is not z )"
   ]
  },
  {
   "cell_type": "code",
   "execution_count": null,
   "metadata": {},
   "outputs": [],
   "source": []
  }
 ],
 "metadata": {
  "kernelspec": {
   "display_name": "Python 3",
   "language": "python",
   "name": "python3"
  },
  "language_info": {
   "codemirror_mode": {
    "name": "ipython",
    "version": 3
   },
   "file_extension": ".py",
   "mimetype": "text/x-python",
   "name": "python",
   "nbconvert_exporter": "python",
   "pygments_lexer": "ipython3",
   "version": "3.8.3"
  }
 },
 "nbformat": 4,
 "nbformat_minor": 4
}
