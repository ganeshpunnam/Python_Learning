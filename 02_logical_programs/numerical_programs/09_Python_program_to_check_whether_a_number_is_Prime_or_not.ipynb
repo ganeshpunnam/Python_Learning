{
 "cells": [
  {
   "cell_type": "markdown",
   "metadata": {},
   "source": [
    "## Python program to check whether a number is Prime or not"
   ]
  },
  {
   "cell_type": "code",
   "execution_count": 8,
   "metadata": {},
   "outputs": [
    {
     "name": "stdout",
     "output_type": "stream",
     "text": [
      "entre the number7\n",
      "is prime number\n"
     ]
    }
   ],
   "source": [
    "a = int(input('entre the number'))\n",
    "if a%2!=0:\n",
    "    print( 'is prime number' )\n",
    "else:\n",
    "    print( 'is not a prime number')"
   ]
  },
  {
   "cell_type": "code",
   "execution_count": 3,
   "metadata": {},
   "outputs": [
    {
     "name": "stdout",
     "output_type": "stream",
     "text": [
      "entre the number8\n",
      "is not a prime number\n"
     ]
    }
   ],
   "source": [
    "a = int(input('entre the number'))\n",
    "if a%2!=0:\n",
    "    print(  'is prime number')\n",
    "else:\n",
    "    print(  'is not a prime number')"
   ]
  },
  {
   "cell_type": "code",
   "execution_count": null,
   "metadata": {},
   "outputs": [],
   "source": []
  }
 ],
 "metadata": {
  "kernelspec": {
   "display_name": "Python 3",
   "language": "python",
   "name": "python3"
  },
  "language_info": {
   "codemirror_mode": {
    "name": "ipython",
    "version": 3
   },
   "file_extension": ".py",
   "mimetype": "text/x-python",
   "name": "python",
   "nbconvert_exporter": "python",
   "pygments_lexer": "ipython3",
   "version": "3.8.3"
  }
 },
 "nbformat": 4,
 "nbformat_minor": 4
}
