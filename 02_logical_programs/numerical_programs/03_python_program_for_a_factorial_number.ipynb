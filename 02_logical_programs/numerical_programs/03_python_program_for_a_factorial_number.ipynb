{
 "cells": [
  {
   "cell_type": "markdown",
   "metadata": {},
   "source": [
    "## python_program_for_a_factorial_number"
   ]
  },
  {
   "cell_type": "code",
   "execution_count": 18,
   "metadata": {},
   "outputs": [
    {
     "name": "stdout",
     "output_type": "stream",
     "text": [
      "enter the value7\n",
      "1\n",
      "2\n",
      "6\n",
      "24\n",
      "120\n",
      "720\n",
      "5040\n"
     ]
    }
   ],
   "source": [
    "num=int(input('enter the value'))\n",
    "factorial = 1\n",
    "if num<0:\n",
    "    print(\"factorial numbers are not excuate nigetive numbers\")\n",
    "elif num==0:\n",
    "    print(\"factorial is not defined 0 \")\n",
    "else:\n",
    "    for i in range(1,num+1):\n",
    "        factorial = factorial*i\n",
    "        print(factorial)"
   ]
  },
  {
   "cell_type": "code",
   "execution_count": 2,
   "metadata": {},
   "outputs": [
    {
     "name": "stdout",
     "output_type": "stream",
     "text": [
      "enter the value2\n",
      "2\n"
     ]
    }
   ],
   "source": [
    "num=int(input('enter the value'))\n",
    "factorial = 1\n",
    "if num<0:\n",
    "    print(\"factorial numbers are not excuate nigetive numbers\")\n",
    "elif num==0:\n",
    "    print(\"factorial is not defined 0 \")\n",
    "else:\n",
    "    for i in range(1,num+1):\n",
    "        factorial = factorial*i\n",
    "    print(factorial)"
   ]
  },
  {
   "cell_type": "code",
   "execution_count": 3,
   "metadata": {},
   "outputs": [
    {
     "name": "stdout",
     "output_type": "stream",
     "text": [
      "enter the value-1\n",
      "factorial numbers are not excuate nigetive numbers\n"
     ]
    }
   ],
   "source": [
    "num=int(input('enter the value'))\n",
    "factorial = 1\n",
    "if num<0:\n",
    "    print(\"factorial numbers are not excuate nigetive numbers\")\n",
    "elif num==0:\n",
    "    print(\"factorial is not defined 0 \")\n",
    "else:\n",
    "    for i in range(1,num+1):\n",
    "        factorial = factorial*i\n",
    "    print(factorial)"
   ]
  },
  {
   "cell_type": "code",
   "execution_count": null,
   "metadata": {},
   "outputs": [],
   "source": []
  }
 ],
 "metadata": {
  "kernelspec": {
   "display_name": "Python 3",
   "language": "python",
   "name": "python3"
  },
  "language_info": {
   "codemirror_mode": {
    "name": "ipython",
    "version": 3
   },
   "file_extension": ".py",
   "mimetype": "text/x-python",
   "name": "python",
   "nbconvert_exporter": "python",
   "pygments_lexer": "ipython3",
   "version": "3.8.3"
  }
 },
 "nbformat": 4,
 "nbformat_minor": 4
}
